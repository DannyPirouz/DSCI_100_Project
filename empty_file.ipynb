{
 "cells": [
  {
   "cell_type": "code",
   "execution_count": null,
   "id": "461638e9-21bf-4b08-b05c-7f2786bc54ea",
   "metadata": {},
   "outputs": [],
   "source": [
    "empty file"
   ]
  }
 ],
 "metadata": {
  "kernelspec": {
   "display_name": "R",
   "language": "R",
   "name": "ir"
  },
  "language_info": {
   "codemirror_mode": "r",
   "file_extension": ".r",
   "mimetype": "text/x-r-source",
   "name": "R",
   "pygments_lexer": "r",
   "version": "4.2.2"
  }
 },
 "nbformat": 4,
 "nbformat_minor": 5
}
