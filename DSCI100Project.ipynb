{
 "cells": [
  {
   "cell_type": "code",
   "execution_count": 1,
   "id": "9cedb863-f501-44d8-ab2f-6b9fb775ce19",
   "metadata": {},
   "outputs": [
    {
     "ename": "ERROR",
     "evalue": "Error in eval(expr, envir, enclos): object 'asdfasd' not found\n",
     "output_type": "error",
     "traceback": [
      "Error in eval(expr, envir, enclos): object 'asdfasd' not found\nTraceback:\n"
     ]
    }
   ],
   "source": [
    "asdfadsfadsfdfdsf"
   ]
  },
  {
   "cell_type": "code",
   "execution_count": null,
   "id": "b181b328-8533-4671-b8ad-9a2894c6413e",
   "metadata": {},
   "outputs": [],
   "source": []
  }
 ],
 "metadata": {
  "kernelspec": {
   "display_name": "R",
   "language": "R",
   "name": "ir"
  },
  "language_info": {
   "codemirror_mode": "r",
   "file_extension": ".r",
   "mimetype": "text/x-r-source",
   "name": "R",
   "pygments_lexer": "r",
   "version": "4.2.2"
  }
 },
 "nbformat": 4,
 "nbformat_minor": 5
}
