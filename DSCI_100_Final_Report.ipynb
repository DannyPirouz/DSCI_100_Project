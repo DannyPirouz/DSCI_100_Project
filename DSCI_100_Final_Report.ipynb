{
 "cells": [
  {
   "cell_type": "code",
   "execution_count": null,
   "id": "996f9470-2764-4269-b7c2-2398335bc34a",
   "metadata": {
    "tags": []
   },
   "outputs": [],
   "source": [
    "# First, we need to load all necessary R packages using the library function\n",
    "\n",
    "install.packages(\"kknn\")\n",
    "library(kknn)\n",
    "library(tidyverse)\n",
    "library(tidymodels)\n",
    "library(repr)\n",
    "library(dplyr)"
   ]
  },
  {
   "cell_type": "code",
   "execution_count": null,
   "id": "f0d456eb-c4ff-42b7-887c-242cf91ec992",
   "metadata": {
    "tags": []
   },
   "outputs": [],
   "source": [
    "# Then, we need to read the data from a URL using appropriate read_* and assign it to a variable\n",
    "# The dataset was downloaded from: \"https://www.kaggle.com/datasets/armanakbari/connectionist-bench-sonar-mines-vs-rocks\"\n",
    "\n",
    "sonar_url <- \"https://raw.githubusercontent.com/DannyPirouz/DSCI_100_Project/main/sonar.all-data.csv\"\n",
    "sonar_data <- read_csv(sonar_url)"
   ]
  },
  {
   "cell_type": "code",
   "execution_count": null,
   "id": "8920fcc6-89f7-4909-ad4a-90c0837d3408",
   "metadata": {
    "tags": []
   },
   "outputs": [],
   "source": [
    "# Check to see if we have missing data\n",
    "\n",
    "sum(is.na(sonar_data))"
   ]
  },
  {
   "cell_type": "code",
   "execution_count": null,
   "id": "d77ae41b-92de-46ce-bf25-1b5e99202250",
   "metadata": {
    "tags": []
   },
   "outputs": [],
   "source": [
    "# Next, we need to convert the column \"Label\" to a factor type and change the name of the labels to improve readability\n",
    "\n",
    "sonar_data <- sonar_data |>\n",
    "              mutate(Label = as.factor(Label)) |>\n",
    "              mutate(Label = fct_recode(Label, \"Rock\" = \"R\", \"Mine\" = \"M\"))\n",
    "head(sonar_data, 5)\n",
    "# Our data is now wrangled and clean"
   ]
  },
  {
   "cell_type": "code",
   "execution_count": null,
   "id": "4e3e32d3-559a-46f4-a72b-850a9fdfda33",
   "metadata": {
    "tags": []
   },
   "outputs": [],
   "source": [
    "# Now, we want to see how many \"Rocks\" and \"Mines\" we have in our entire data set\n",
    "\n",
    "count_table <- sonar_data |> \n",
    "               group_by(Label) |>\n",
    "               summarize(Count = n()) |>\n",
    "               mutate(Percentage = 100*Count/nrow(sonar_data))\n",
    "count_table\n",
    "# It is good that the percentages are close to 50%"
   ]
  },
  {
   "cell_type": "code",
   "execution_count": null,
   "id": "aa36c7d0-6251-42bf-a744-44ec413847e5",
   "metadata": {
    "tags": []
   },
   "outputs": [],
   "source": [
    "# We need to split the data into the training portion and the testing portion \n",
    "# The initial_split function will create randomness for us \n",
    "set.seed(1)\n",
    "\n",
    "sonar_split <- initial_split(sonar_data, prop = 0.75, strata = Label)\n",
    "sonar_train <- training(sonar_split)\n",
    "sonar_test <- testing(sonar_split)\n",
    "\n",
    "head(sonar_train, 5)"
   ]
  },
  {
   "cell_type": "code",
   "execution_count": null,
   "id": "a9b45525-e1b6-4fdd-8f60-326de106c8d6",
   "metadata": {
    "tags": []
   },
   "outputs": [],
   "source": [
    "# We have created a table to see how many \"Rocks\" and \"Mines\" we have in our training data\n",
    "\n",
    "label_proportions_table <- sonar_train |>\n",
    "                           group_by(Label) |> \n",
    "                           summarize(Count = n()) |>\n",
    "                           mutate(Percentage = 100*Count/nrow(sonar_train))\n",
    "\n",
    "label_proportions_table\n",
    "\n",
    "# We notice that our \"Label\" proportions were preserved when we split the data "
   ]
  },
  {
   "cell_type": "code",
   "execution_count": null,
   "id": "e9e31583-eb7e-4ba8-a132-ecd790a48bf3",
   "metadata": {
    "tags": []
   },
   "outputs": [],
   "source": [
    "# Finding the mean of every frequency\n",
    "\n",
    "freq_means_per_column <- sonar_train |>\n",
    "              select(Freq_1:Freq_60) |>\n",
    "              map_df(mean)\n",
    "\n",
    "freq_means_per_column <- pivot_longer(freq_means_per_column, cols = Freq_1:Freq_60, names_to = \"Frequency_Number\", values_to = \"Mean_Frequency_Value\")\n",
    "head(freq_means_per_column, 5)"
   ]
  },
  {
   "cell_type": "code",
   "execution_count": null,
   "id": "cfa6490b-c390-4afe-8ea1-8a1f143e00ad",
   "metadata": {
    "tags": []
   },
   "outputs": [],
   "source": [
    "# Finding the mean of every frequency grouped by \"Label\"\n",
    "\n",
    "freq_means_grouped_by_label <- sonar_train |>\n",
    "                               group_by(Label) |>\n",
    "                               summarize(across(Freq_1:Freq_60, ~ mean(.x, na.rm = TRUE)))\n",
    " \n",
    "freq_means_grouped_by_label <- pivot_longer(freq_means_grouped_by_label, cols = Freq_1:Freq_60, names_to = \"Frequency Number\", values_to = \"Mean Frequency Value\")\n",
    "head(freq_means_grouped_by_label, 5)\n",
    "tail(freq_means_grouped_by_label, 5)"
   ]
  },
  {
   "cell_type": "code",
   "execution_count": null,
   "id": "1824fe5e-9d11-4083-b20c-efef79625abc",
   "metadata": {
    "tags": []
   },
   "outputs": [],
   "source": [
    "# Finding the maximum of every frequency\n",
    "\n",
    "freq_max_per_column <- sonar_train |>\n",
    "            select(Freq_1:Freq_60) |>\n",
    "            map_df(max)\n",
    "\n",
    "freq_max_per_column <- pivot_longer(freq_max_per_column, cols = Freq_1:Freq_60, names_to = \"Frequency Number\", values_to = \" Maximum Frequency Value\")\n",
    "head(freq_max_per_column, 5)"
   ]
  },
  {
   "cell_type": "code",
   "execution_count": null,
   "id": "0a538c5d-1399-4aaf-a937-518c4510469a",
   "metadata": {
    "tags": []
   },
   "outputs": [],
   "source": [
    "# Finding the minimum of every frequency\n",
    "\n",
    "freq_min_per_column <- sonar_train |>\n",
    "            select(Freq_1:Freq_60) |>\n",
    "            map_df(min)\n",
    "\n",
    "freq_min_per_column <- pivot_longer(freq_min_per_column, cols = Freq_1:Freq_60, names_to = \"Frequency Number\", values_to = \" Minimum Frequency Value\")\n",
    "head(freq_min_per_column, 5)"
   ]
  },
  {
   "cell_type": "code",
   "execution_count": null,
   "id": "e7a60bb0-408a-4c1e-9aee-18dc8828b275",
   "metadata": {
    "tags": []
   },
   "outputs": [],
   "source": [
    "# Plotting a histogram of various frequencies to see what their distributions look like\n",
    "\n",
    "# The data never mentioned what the units for the energy represented by each frequency so we were not able to include those units\n",
    "\n",
    "hist_18 <- ggplot(sonar_train, aes(x = Freq_18, fill = Label)) + \n",
    "          geom_histogram(position = \"identity\", binwidth = 0.04) + \n",
    "          labs(x = \"Frequency 18\", y = \"Count\", fill = \"Label\") +\n",
    "          ggtitle(\"Distribution of Frequency 18 Labeled as Mine or Rock\") +\n",
    "          theme(text = element_text(size = 12)) +\n",
    "          facet_grid(rows = vars(Label))\n",
    "hist_18\n",
    "\n",
    "# These two histograms have very similar distributions as they both have their modes at around 0.025. \n",
    "# Since the distributions are very similar, it is very unlikely that this frequency would be a driving force."
   ]
  },
  {
   "cell_type": "code",
   "execution_count": null,
   "id": "1a89bc87-b4ba-4c47-983b-78f1899cf266",
   "metadata": {
    "tags": []
   },
   "outputs": [],
   "source": [
    "hist_12 <- ggplot(sonar_train, aes(x = Freq_12, fill = Label)) + \n",
    "          geom_histogram(position = \"identity\", binwidth = 0.04) + \n",
    "          labs(x = \"Frequency 12\", y = \"Count\", fill = \"Label\") +\n",
    "          ggtitle(\"Distribution of Frequency 12 Labeled as Mine or Rock\") +\n",
    "          theme(text = element_text(size = 12)) +\n",
    "          facet_grid(rows = vars(Label))\n",
    "hist_12\n",
    "\n",
    "# These two histograms have different distributions. \n",
    "# The mine distribution resembles a bell-shape with the average around 0.3.\n",
    "# The rock distribution is very right-skewed with a mode at around 0.1.\n",
    "# Since the distributions are different, this suggests that this frequency could be a driving factor."
   ]
  },
  {
   "cell_type": "code",
   "execution_count": null,
   "id": "9b2f185b-f96e-472b-96f3-470fe1302f16",
   "metadata": {
    "tags": []
   },
   "outputs": [],
   "source": [
    "# Now we are going to create scatter plots with various frequencies to see if we can identify any groupings or patterns\n",
    "# First, we have to scale our data for the scatter plot\n",
    "# Then, we can create the scatter plot\n",
    "\n",
    "set.seed(3)\n",
    "\n",
    "sonar_train_recipe <- recipe(Label ~ ., data = sonar_train) |>\n",
    "                      step_scale(all_predictors()) |>\n",
    "                      step_center(all_predictors()) |>\n",
    "                      prep()\n",
    "\n",
    "scaled_sonar_train <- bake(sonar_train_recipe, sonar_train)"
   ]
  },
  {
   "cell_type": "code",
   "execution_count": null,
   "id": "0ca1e5cb-cd62-4457-b629-02d61e94a438",
   "metadata": {
    "tags": []
   },
   "outputs": [],
   "source": [
    "scatterplot_1_and_2 <- ggplot(scaled_sonar_train, aes(x = Freq_1, y = Freq_2, colour = Label)) + \n",
    "                       geom_point() +\n",
    "                       labs(x = \"Frequency 1 (standardized)\", y = \"Frequency 2 (standardized)\") +\n",
    "                       ggtitle(\"Frequency 1 vs Frequency 2\") +\n",
    "                       theme(text = element_text(size = 12))\n",
    "                       \n",
    "scatterplot_1_and_2\n",
    "\n",
    "# The plot looks to have a positive relationship with the mines dominating the higher frequency values. \n",
    "# As Frequency 1 increases, Frequency 2 also increases.\n",
    "# The strength doesn't seem to be very strong as the data points are fairly spread."
   ]
  },
  {
   "cell_type": "code",
   "execution_count": null,
   "id": "e0836df2-46ee-40d3-8ed0-8309fae2999f",
   "metadata": {
    "tags": []
   },
   "outputs": [],
   "source": [
    "scatterplot_28_and_39 <- ggplot(scaled_sonar_train, aes(x = Freq_28, y = Freq_39, colour = Label)) + \n",
    "                         geom_point() +\n",
    "                         labs(x = \"Frequency 28 (standardized)\", y = \"Frequency 39 (standardized)\") +\n",
    "                         ggtitle(\"Frequency 28 vs Frequency 39\") +\n",
    "                         theme(text = element_text(size = 12))\n",
    "                       \n",
    "scatterplot_28_and_39\n",
    "\n",
    "# There is no relationship between these two frequencies. The data points are all over the place.\n",
    "# This suggests that these two frequencies have nothing to do with each other. "
   ]
  },
  {
   "cell_type": "code",
   "execution_count": null,
   "id": "3abef3fd-aee8-49d9-a741-767d23eae790",
   "metadata": {
    "tags": []
   },
   "outputs": [],
   "source": [
    "# This is a bar plot of the average frequency value of every frequency\n",
    "\n",
    "\n",
    "sonar_bar_mean <- ggplot(freq_means_per_column, aes(x = Mean_Frequency_Value, y = fct_reorder(Frequency_Number, Mean_Frequency_Value, .desc = TRUE))) + \n",
    "                  geom_bar(stat = \"identity\") +\n",
    "                  labs(x = \"Frequency Value\", y = \"Frequency Number\") +\n",
    "                  ggtitle(\"Average Frequency Value per Frequency\") +\n",
    "                  theme(text = element_text(size = 12))\n",
    "sonar_bar_mean\n",
    "\n",
    "# We see that frequency 60 has the lowest average frequency close to 0 and frequency 26 has the highest just above 0.7.\n",
    "# Not many of the frequencies have similar frequency averages. "
   ]
  },
  {
   "cell_type": "code",
   "execution_count": null,
   "id": "a3112e12-671b-4e70-8e11-c090e051a055",
   "metadata": {
    "tags": []
   },
   "outputs": [],
   "source": [
    "# We alreadly split our data into our training set and our testing set\n",
    "# We also have already made our recipe\n",
    "\n",
    "set.seed(3)\n",
    "\n",
    "# Now we need to make a model specification with tune() as the neighbours \n",
    "# to find the best number of neighbours\n",
    "\n",
    "knn_spec <- nearest_neighbor(weight_func = \"rectangular\", neighbors = tune()) |>\n",
    "set_engine(\"kknn\") |>\n",
    "set_mode(\"classification\")\n",
    "\n",
    "# Here we want to specify how many coss-validations we want\n",
    "\n",
    "number_vfold <- vfold_cv(sonar_train, v = 5, strata = Label)\n",
    "\n",
    "# This is the range of k values we are testing\n",
    "\n",
    "k_vals <- tibble(neighbors = seq(from = 1, to = 25, by = 1))\n",
    "\n",
    "# Now we are putting it all in a workflow\n",
    "\n",
    "knn_fit <- workflow() |>\n",
    "add_recipe(sonar_train_recipe) |>\n",
    "add_model(knn_spec) |>\n",
    "tune_grid(resamples = number_vfold, grid = k_vals) |>\n",
    "collect_metrics()\n",
    "\n",
    "accuracy <- knn_fit |>\n",
    "filter(.metric == \"accuracy\")\n",
    "\n",
    "# We make a plot to find the k with the highest accuracy\n",
    "\n",
    "cross_val_plot <- ggplot(accuracy, aes(x = neighbors, y = mean)) + geom_point() + geom_line () + labs(x = \"Neighbours\", y = \"Accuracy\")\n",
    "\n",
    "cross_val_plot\n",
    "\n",
    "# We see that k is highest at 3 or 4 but we will use 3 as we have 2 labels\n",
    "# which means we won't have even splits now.\n",
    "\n",
    "head(accuracy, 5)\n",
    "\n",
    "# The highest accuracy is 86.35618% to be exact"
   ]
  },
  {
   "cell_type": "code",
   "execution_count": null,
   "id": "e699ebc1-a19e-440e-9bff-b70ad3ad89b8",
   "metadata": {
    "tags": []
   },
   "outputs": [],
   "source": [
    "set.seed(4)\n",
    "\n",
    "# Now that we found k = 3, we create a new workflow\n",
    "\n",
    "new_knn_spec <- nearest_neighbor(weight_func = \"rectangular\", neighbors = 3) |>\n",
    "set_engine(\"kknn\") |>\n",
    "set_mode(\"classification\")\n",
    "\n",
    "new_knn_fit <- workflow() |>\n",
    "add_recipe(sonar_train_recipe) |>\n",
    "add_model(new_knn_spec) |>\n",
    "fit(data = sonar_train)\n",
    "\n",
    "# Now we can test our testing set\n",
    "\n",
    "sonar_test_predictions <- predict(new_knn_fit, sonar_test) |>\n",
    "bind_cols(sonar_test)\n",
    "\n",
    "head(sonar_test_predictions, 5)\n",
    "tail(sonar_test_predictions, 5)"
   ]
  },
  {
   "cell_type": "code",
   "execution_count": null,
   "id": "5d0b9377-49dc-4ab3-8ae9-1cb7acdf8c45",
   "metadata": {
    "tags": []
   },
   "outputs": [],
   "source": [
    "set.seed(4)\n",
    "\n",
    "# We get the confusion matrix for our testing set\n",
    "\n",
    "sonar_metrics <- sonar_test_predictions |>\n",
    "metrics(truth = Label, estimate = .pred_class) |>\n",
    "filter(.metric == \"accuracy\")\n",
    "sonar_metrics\n",
    "\n",
    "sonar_conf_mat <- sonar_test_predictions |>\n",
    "conf_mat(truth = Label, estimate = .pred_class)\n",
    "\n",
    "sonar_conf_mat\n",
    "\n",
    "# We see we have an accuracy of ~85% and that rocks are more likely \n",
    "# to be predicted mines than mines are predicted to be rocks."
   ]
  },
  {
   "cell_type": "code",
   "execution_count": null,
   "id": "353beafc-2b3e-4e75-ab5b-19992cbfc944",
   "metadata": {
    "tags": []
   },
   "outputs": [],
   "source": [
    "set.seed(4)\n",
    "\n",
    "# We are finally able to test our unknown label to determine what it is\n",
    "\n",
    "unknown_label <- tibble(\n",
    "Freq_1=0.029293548, Freq_2=0.038125161, Freq_3=0.043919355, Freq_4=0.053570968, Freq_5=0.073985161,\n",
    "Freq_6=0.107596129, Freq_7=0.123939355, Freq_8=0.135519355, Freq_9=0.182131613, Freq_10=0.210321290,\n",
    "Freq_11=0.239072258, Freq_12=0.252205161, Freq_13=0.269441935, Freq_14=0.287030968, Freq_15=0.307488387,\n",
    "Freq_16=0.368141935, Freq_17=0.409109677, Freq_18=0.442067097, Freq_19=0.493798710, Freq_20=0.567036774,\n",
    "Freq_21=0.629974839, Freq_22=0.650916774, Freq_23=0.668149032, Freq_24=0.692389677, Freq_25=0.706011613,\n",
    "Freq_26=0.731724516, Freq_27=0.728425806, Freq_28=0.714849677, Freq_29=0.656634839, Freq_30=0.586917419,\n",
    "Freq_31=0.498092903, Freq_32=0.438041290, Freq_33=0.410323226, Freq_34=0.399729032, Freq_35=0.392028387,\n",
    "Freq_36=0.383221290, Freq_37=0.355252903, Freq_38=0.328312258, Freq_39=0.315471613, Freq_40=0.297972903,\n",
    "Freq_41=0.273301290, Freq_42=0.261722581, Freq_43=0.240483871, Freq_44=0.210916774, Freq_45=0.194581935,\n",
    "Freq_46=0.158237419, Freq_47=0.118338065, Freq_48=0.088425806, Freq_49=0.050437419, Freq_50=0.020080645,\n",
    "Freq_51=0.015726452, Freq_52=0.013165161, Freq_53=0.010220645, Freq_54=0.010878065, Freq_55=0.008923871,\n",
    "Freq_56=0.007916774, Freq_57=0.007650323, Freq_58=0.007411613, Freq_59=0.007715484, Freq_60=0.006610968)\n",
    "\n",
    "predict(new_knn_fit, unknown_label)"
   ]
  },
  {
   "cell_type": "code",
   "execution_count": null,
   "id": "c622d0bc-0d4c-4c86-a273-c8975dc7d9b1",
   "metadata": {},
   "outputs": [],
   "source": []
  }
 ],
 "metadata": {
  "kernelspec": {
   "display_name": "R",
   "language": "R",
   "name": "ir"
  },
  "language_info": {
   "codemirror_mode": "r",
   "file_extension": ".r",
   "mimetype": "text/x-r-source",
   "name": "R",
   "pygments_lexer": "r",
   "version": "4.2.2"
  }
 },
 "nbformat": 4,
 "nbformat_minor": 5
}
